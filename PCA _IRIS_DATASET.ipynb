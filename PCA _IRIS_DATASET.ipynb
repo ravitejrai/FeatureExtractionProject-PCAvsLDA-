{
 "cells": [
  {
   "cell_type": "code",
   "execution_count": 2,
   "metadata": {},
   "outputs": [
    {
     "data": {
      "text/html": [
       "<div>\n",
       "<style>\n",
       "    .dataframe thead tr:only-child th {\n",
       "        text-align: right;\n",
       "    }\n",
       "\n",
       "    .dataframe thead th {\n",
       "        text-align: left;\n",
       "    }\n",
       "\n",
       "    .dataframe tbody tr th {\n",
       "        vertical-align: top;\n",
       "    }\n",
       "</style>\n",
       "<table border=\"1\" class=\"dataframe\">\n",
       "  <thead>\n",
       "    <tr style=\"text-align: right;\">\n",
       "      <th></th>\n",
       "      <th>sepal_len</th>\n",
       "      <th>sepal_wid</th>\n",
       "      <th>petal_len</th>\n",
       "      <th>petal_wid</th>\n",
       "      <th>class</th>\n",
       "    </tr>\n",
       "  </thead>\n",
       "  <tbody>\n",
       "    <tr>\n",
       "      <th>145</th>\n",
       "      <td>6.7</td>\n",
       "      <td>3.0</td>\n",
       "      <td>5.2</td>\n",
       "      <td>2.3</td>\n",
       "      <td>Iris-virginica</td>\n",
       "    </tr>\n",
       "    <tr>\n",
       "      <th>146</th>\n",
       "      <td>6.3</td>\n",
       "      <td>2.5</td>\n",
       "      <td>5.0</td>\n",
       "      <td>1.9</td>\n",
       "      <td>Iris-virginica</td>\n",
       "    </tr>\n",
       "    <tr>\n",
       "      <th>147</th>\n",
       "      <td>6.5</td>\n",
       "      <td>3.0</td>\n",
       "      <td>5.2</td>\n",
       "      <td>2.0</td>\n",
       "      <td>Iris-virginica</td>\n",
       "    </tr>\n",
       "    <tr>\n",
       "      <th>148</th>\n",
       "      <td>6.2</td>\n",
       "      <td>3.4</td>\n",
       "      <td>5.4</td>\n",
       "      <td>2.3</td>\n",
       "      <td>Iris-virginica</td>\n",
       "    </tr>\n",
       "    <tr>\n",
       "      <th>149</th>\n",
       "      <td>5.9</td>\n",
       "      <td>3.0</td>\n",
       "      <td>5.1</td>\n",
       "      <td>1.8</td>\n",
       "      <td>Iris-virginica</td>\n",
       "    </tr>\n",
       "  </tbody>\n",
       "</table>\n",
       "</div>"
      ],
      "text/plain": [
       "     sepal_len  sepal_wid  petal_len  petal_wid           class\n",
       "145        6.7        3.0        5.2        2.3  Iris-virginica\n",
       "146        6.3        2.5        5.0        1.9  Iris-virginica\n",
       "147        6.5        3.0        5.2        2.0  Iris-virginica\n",
       "148        6.2        3.4        5.4        2.3  Iris-virginica\n",
       "149        5.9        3.0        5.1        1.8  Iris-virginica"
      ]
     },
     "execution_count": 2,
     "metadata": {},
     "output_type": "execute_result"
    }
   ],
   "source": [
    "import pandas as pd\n",
    "import numpy as np\n",
    "\n",
    "df = pd.read_csv(\n",
    "    filepath_or_buffer='https://archive.ics.uci.edu/ml/machine-learning-databases/iris/iris.data', \n",
    "    header=None, \n",
    "    sep=',')\n",
    "\n",
    "df.columns=['sepal_len', 'sepal_wid', 'petal_len', 'petal_wid', 'class']\n",
    "df.dropna(how=\"all\", inplace=True) # drops the empty line at file-end\n",
    "\n",
    "df.tail()"
   ]
  },
  {
   "cell_type": "code",
   "execution_count": 3,
   "metadata": {
    "collapsed": true
   },
   "outputs": [],
   "source": [
    "X = df[['sepal_len', 'sepal_wid', 'petal_len', 'petal_wid']].values\n",
    "y = df['class'].values"
   ]
  },
  {
   "cell_type": "code",
   "execution_count": null,
   "metadata": {
    "collapsed": true
   },
   "outputs": [],
   "source": [
    "\n"
   ]
  },
  {
   "cell_type": "code",
   "execution_count": 12,
   "metadata": {},
   "outputs": [
    {
     "name": "stdout",
     "output_type": "stream",
     "text": [
      "U= [[ -6.16171172e-02   1.29969428e-01  -5.58364155e-05 ...,  -9.34637342e-02\n",
      "   -9.60224157e-02  -8.09922905e-02]\n",
      " [ -5.80722977e-02   1.11371452e-01   6.84386629e-02 ...,   3.66755322e-02\n",
      "   -3.24463474e-02   1.27273399e-02]\n",
      " [ -5.67633852e-02   1.18294769e-01   2.31062793e-03 ...,   3.08252776e-02\n",
      "    1.95234663e-01   1.35567696e-01]\n",
      " ..., \n",
      " [ -9.40702260e-02  -4.98348018e-02  -4.14958083e-02 ...,   9.81822841e-01\n",
      "   -2.17978813e-02  -8.85972146e-03]\n",
      " [ -9.48993908e-02  -5.62107520e-02  -2.12386574e-01 ...,  -2.14264126e-02\n",
      "    9.42038920e-01  -2.96933496e-02]\n",
      " [ -8.84882764e-02  -5.16210172e-02  -9.51442925e-02 ...,  -8.52768485e-03\n",
      "   -3.02139863e-02   9.73577349e-01]] \n",
      "S= [ 95.95066751  17.72295328   3.46929666   1.87891236] \n",
      "V= [[-0.75116805 -0.37978837 -0.51315094 -0.16787934]\n",
      " [ 0.28583096  0.54488976 -0.70889874 -0.34475845]\n",
      " [ 0.49942378 -0.67502499 -0.05471983 -0.54029889]\n",
      " [ 0.32345496 -0.32124324 -0.48077482  0.74902286]]\n"
     ]
    }
   ],
   "source": [
    "#X = U S V\n",
    "U,S,V = np.linalg.svd(X)\n",
    "print(\"U=\", U , \"\\nS=\", S , \"\\nV=\" , V )"
   ]
  },
  {
   "cell_type": "code",
   "execution_count": 9,
   "metadata": {},
   "outputs": [
    {
     "data": {
      "text/plain": [
       "array([  9.20653060e+03,   3.14103073e+02,   1.20360193e+01,\n",
       "         3.53031167e+00])"
      ]
     },
     "execution_count": 9,
     "metadata": {},
     "output_type": "execute_result"
    }
   ],
   "source": [
    "S=np.square(S)\n",
    "S"
   ]
  },
  {
   "cell_type": "code",
   "execution_count": 17,
   "metadata": {},
   "outputs": [
    {
     "data": {
      "text/plain": [
       "array([[-0.75116805, -0.37978837, -0.51315094, -0.16787934],\n",
       "       [ 0.28583096,  0.54488976, -0.70889874, -0.34475845],\n",
       "       [ 0.49942378, -0.67502499, -0.05471983, -0.54029889],\n",
       "       [ 0.32345496, -0.32124324, -0.48077482,  0.74902286]])"
      ]
     },
     "execution_count": 17,
     "metadata": {},
     "output_type": "execute_result"
    }
   ],
   "source": [
    "V=V.T\n",
    "V"
   ]
  },
  {
   "cell_type": "code",
   "execution_count": 19,
   "metadata": {},
   "outputs": [
    {
     "name": "stdout",
     "output_type": "stream",
     "text": [
      "Covariance Matrix:\n",
      " [[ 4.75        4.42166667  4.35333333  4.16      ]\n",
      " [ 4.42166667  4.14916667  4.055       3.885     ]\n",
      " [ 4.35333333  4.055       3.99        3.81333333]\n",
      " [ 4.16        3.885       3.81333333  3.65666667]]\n"
     ]
    }
   ],
   "source": [
    "cov_mat = np.cov([X[0,:],X[1,:],X[2,:]],X[3,:])\n",
    "print('Covariance Matrix:\\n', cov_mat)"
   ]
  },
  {
   "cell_type": "code",
   "execution_count": 26,
   "metadata": {},
   "outputs": [
    {
     "name": "stdout",
     "output_type": "stream",
     "text": [
      "eig_val_cov= [  1.65178969e+01   2.11439743e-02   1.63378468e-15   6.79244079e-03] \n",
      "eig_vec_cov= [[-0.53594712 -0.48950914 -0.64998061 -0.22509264]\n",
      " [-0.50033874  0.7933919  -0.06717125 -0.34011537]\n",
      " [-0.49129599 -0.35241396  0.75666436 -0.24878044]\n",
      " [-0.47015964  0.08194211  0.02173187  0.8785005 ]] \n",
      "\n"
     ]
    }
   ],
   "source": [
    "# eigenvectors and eigenvalues for the from the covariance matrix\n",
    "eig_val_cov, eig_vec_cov = np.linalg.eig(cov_mat)\n",
    "print( \"eig_val_cov=\" , eig_val_cov , \"\\neig_vec_cov=\" , eig_vec_cov , \"\\n\")"
   ]
  },
  {
   "cell_type": "code",
   "execution_count": 35,
   "metadata": {
    "collapsed": true
   },
   "outputs": [],
   "source": [
    "for ev in eig_vec_cov:\n",
    "    numpy.testing.assert_array_almost_equal(1.0, np.linalg.norm(ev))"
   ]
  },
  {
   "cell_type": "markdown",
   "metadata": {},
   "source": [
    "# So, in order to decide which eigenvector(s) we want to drop for our lower-dimensional subspace, we have to take a look at the corresponding eigenvalues of the eigenvectors. Roughly speaking, the eigenvectors with the lowest eigenvalues bear the least information about the distribution of the data, and those are the ones we want to drop.\n",
    "The common approach is to rank the eigenvectors from highest to lowest corresponding eigenvalue and choose the top k eigenvectors."
   ]
  },
  {
   "cell_type": "code",
   "execution_count": 37,
   "metadata": {},
   "outputs": [
    {
     "name": "stdout",
     "output_type": "stream",
     "text": [
      "16.5178969182\n",
      "0.0211439743331\n",
      "0.006792440789\n",
      "1.63378467723e-15\n"
     ]
    }
   ],
   "source": [
    "# Make a list of (eigenvalue, eigenvector) tuples\n",
    "eig_pairs = [(np.abs(eig_val_cov[i]), eig_vec_cov[:,i]) for i in range(len(eig_val_cov))]\n",
    "\n",
    "# Sort the (eigenvalue, eigenvector) tuples from high to low\n",
    "eig_pairs.sort(key=lambda x: x[0], reverse=True)\n",
    "\n",
    "# Visually confirm that the list is correctly sorted by decreasing eigenvalues\n",
    "for i in eig_pairs:\n",
    "    print(i[0])\n",
    "\n"
   ]
  },
  {
   "cell_type": "code",
   "execution_count": 42,
   "metadata": {},
   "outputs": [
    {
     "data": {
      "text/plain": [
       "array([-0.53594712, -0.50033874, -0.49129599, -0.47015964])"
      ]
     },
     "execution_count": 42,
     "metadata": {},
     "output_type": "execute_result"
    }
   ],
   "source": [
    "eig_pairs[0][1]"
   ]
  },
  {
   "cell_type": "code",
   "execution_count": 44,
   "metadata": {},
   "outputs": [
    {
     "data": {
      "text/plain": [
       "array([-0.48950914,  0.7933919 , -0.35241396,  0.08194211])"
      ]
     },
     "execution_count": 44,
     "metadata": {},
     "output_type": "execute_result"
    }
   ],
   "source": [
    "eig_pairs[1][1]"
   ]
  },
  {
   "cell_type": "code",
   "execution_count": 45,
   "metadata": {},
   "outputs": [
    {
     "data": {
      "text/plain": [
       "[(16.517896918211271,\n",
       "  array([-0.53594712, -0.50033874, -0.49129599, -0.47015964])),\n",
       " (0.021143974333078828,\n",
       "  array([-0.48950914,  0.7933919 , -0.35241396,  0.08194211])),\n",
       " (0.0067924407889953008,\n",
       "  array([-0.22509264, -0.34011537, -0.24878044,  0.8785005 ])),\n",
       " (1.6337846772348803e-15,\n",
       "  array([-0.64998061, -0.06717125,  0.75666436,  0.02173187]))]"
      ]
     },
     "execution_count": 45,
     "metadata": {},
     "output_type": "execute_result"
    }
   ],
   "source": [
    "eig_pairs"
   ]
  },
  {
   "cell_type": "code",
   "execution_count": 48,
   "metadata": {},
   "outputs": [
    {
     "name": "stdout",
     "output_type": "stream",
     "text": [
      "Matrix W:\n",
      " [[-0.53594712 -0.48950914]\n",
      " [-0.50033874  0.7933919 ]\n",
      " [-0.49129599 -0.35241396]\n",
      " [-0.47015964  0.08194211]]\n"
     ]
    }
   ],
   "source": [
    "matrix_w = np.hstack((eig_pairs[0][1].reshape(4,1), eig_pairs[1][1].reshape(4,1)))\n",
    "print('Matrix W:\\n', matrix_w)"
   ]
  },
  {
   "cell_type": "code",
   "execution_count": 58,
   "metadata": {},
   "outputs": [
    {
     "data": {
      "text/plain": [
       "(150, 2)"
      ]
     },
     "execution_count": 58,
     "metadata": {},
     "output_type": "execute_result"
    }
   ],
   "source": [
    "transformed = X.dot(matrix_w)\n",
    "transformed.shape\n"
   ]
  },
  {
   "cell_type": "code",
   "execution_count": 59,
   "metadata": {},
   "outputs": [
    {
     "data": {
      "text/plain": [
       "array([[ -5.2663622 ,  -0.19661608],\n",
       "       [ -4.9090034 ,  -0.4954102 ],\n",
       "       [ -4.85275213,  -0.2035886 ],\n",
       "       [ -4.84738274,  -0.30445967],\n",
       "       [ -5.26280136,  -0.06832598],\n",
       "       [ -5.86870255,  -0.11544783],\n",
       "       [ -4.99537073,  -0.02300649],\n",
       "       [ -5.21186321,  -0.26224576],\n",
       "       [ -4.59099597,  -0.32999483],\n",
       "       [ -4.96115091,  -0.45950662],\n",
       "       [ -5.57634368,  -0.22003184],\n",
       "       [ -5.15380339,  -0.19958532],\n",
       "       [ -4.80839273,  -0.4546535 ],\n",
       "       [ -4.39303037,  -0.10417475],\n",
       "       [ -5.79343535,  -0.07209374],\n",
       "       [ -6.18139686,   0.20487816],\n",
       "       [ -5.67218416,   0.02551775],\n",
       "       [ -5.31337816,  -0.18842187],\n",
       "       [ -5.93243685,  -0.34983397],\n",
       "       [ -5.51260938,   0.0143543 ],\n",
       "       [ -5.52450125,  -0.5285322 ],\n",
       "       [ -5.50959147,  -0.05679068],\n",
       "       [ -4.85190412,   0.26844326],\n",
       "       [ -5.45473114,  -0.43643602],\n",
       "       [ -5.30119218,  -0.30530951],\n",
       "       [ -5.06085731,  -0.61484391],\n",
       "       [ -5.35502474,  -0.28109873],\n",
       "       [ -5.36908651,  -0.28080839],\n",
       "       [ -5.26992304,  -0.32490619],\n",
       "       [ -5.00014093,  -0.30931279],\n",
       "       [ -5.00370176,  -0.43760289],\n",
       "       [ -5.52027399,  -0.44166099],\n",
       "       [ -5.62227379,   0.18703253],\n",
       "       [ -5.83097816,   0.16295459],\n",
       "       [ -4.96115091,  -0.45950662],\n",
       "       [ -4.96440667,  -0.31519995],\n",
       "       [ -5.43161145,  -0.35717834],\n",
       "       [ -4.96115091,  -0.45950662],\n",
       "       [ -4.59190025,  -0.21541424],\n",
       "       [ -5.26545792,  -0.31119667],\n",
       "       [ -5.21065385,  -0.10422956],\n",
       "       [ -4.3422738 ,  -0.81154527],\n",
       "       [ -4.691968  ,  -0.05673586],\n",
       "       [ -5.49909054,  -0.18537112],\n",
       "       [ -5.75614374,  -0.11841707],\n",
       "       [ -4.90242466,  -0.43826508],\n",
       "       [ -5.51472302,  -0.02908131],\n",
       "       [ -4.84828702,  -0.18987908],\n",
       "       [ -5.52274897,  -0.17108093],\n",
       "       [ -5.11269974,  -0.30634355],\n",
       "       [ -8.32002842,  -2.42933654],\n",
       "       [ -7.94721691,  -2.05695406],\n",
       "       [ -8.36167499,  -2.5220134 ],\n",
       "       [ -6.67487972,  -2.17062998],\n",
       "       [ -7.84980573,  -2.45850312],\n",
       "       [ -7.27788651,  -2.04804284],\n",
       "       [ -8.08893124,  -1.99095253],\n",
       "       [ -5.91839024,  -1.57547817],\n",
       "       [ -7.85940239,  -2.44450327],\n",
       "       [ -6.71211745,  -1.66298488],\n",
       "       [ -5.87010866,  -2.01226864],\n",
       "       [ -7.43178681,  -1.86515368],\n",
       "       [ -6.75177151,  -2.51930637],\n",
       "       [ -7.68757439,  -2.22679589],\n",
       "       [ -6.83215928,  -1.60258018],\n",
       "       [ -7.96182161,  -2.2560988 ],\n",
       "       [ -7.41839147,  -1.82402513],\n",
       "       [ -6.94388106,  -2.05994999],\n",
       "       [ -7.33968875,  -2.75244413],\n",
       "       [ -6.68538066,  -2.04204954],\n",
       "       [ -7.96768004,  -1.89334104],\n",
       "       [ -7.24661736,  -2.06763952],\n",
       "       [ -7.73990348,  -2.70434305],\n",
       "       [ -7.54350859,  -2.3225235 ],\n",
       "       [ -7.60482417,  -2.24087726],\n",
       "       [ -7.85819303,  -2.28648708],\n",
       "       [ -8.0618331 ,  -2.68403287],\n",
       "       [ -8.34761322,  -2.52230373],\n",
       "       [ -7.58273645,  -2.09916797],\n",
       "       [ -6.54547488,  -1.8788899 ],\n",
       "       [ -6.53262247,  -2.03719642],\n",
       "       [ -6.43647691,  -2.01014924],\n",
       "       [ -6.93965379,  -1.97307878],\n",
       "       [ -7.82446225,  -2.46110051],\n",
       "       [ -7.31120205,  -1.7261233 ],\n",
       "       [ -7.87992178,  -1.69427781],\n",
       "       [ -8.15622637,  -2.35362878],\n",
       "       [ -7.30015581,  -2.70320287],\n",
       "       [ -7.12784115,  -1.69944797],\n",
       "       [ -6.77494747,  -2.0119516 ],\n",
       "       [ -6.97448377,  -2.08177221],\n",
       "       [ -7.68847867,  -2.1122153 ],\n",
       "       [ -6.93874952,  -2.08765937],\n",
       "       [ -5.92195108,  -1.70376828],\n",
       "       [ -7.02686913,  -1.97270693],\n",
       "       [ -7.1835495 ,  -1.79183448],\n",
       "       [ -7.18053159,  -1.86297946],\n",
       "       [ -7.49763474,  -2.14297543],\n",
       "       [ -5.97524071,  -1.48012241],\n",
       "       [ -7.08136811,  -1.90707726],\n",
       "       [ -9.1507597 ,  -2.37534278],\n",
       "       [ -7.85832072,  -2.33861605],\n",
       "       [ -9.19222231,  -3.00250311],\n",
       "       [ -8.42499406,  -2.60909343],\n",
       "       [ -8.86854041,  -2.66536202],\n",
       "       [ -9.80410306,  -3.49394744],\n",
       "       [ -6.88709105,  -1.86167626],\n",
       "       [ -9.30484836,  -3.34529234],\n",
       "       [ -8.5374966 ,  -3.19273664],\n",
       "       [ -9.83234332,  -2.61312483],\n",
       "       [ -8.53066904,  -2.27638229],\n",
       "       [ -8.27814819,  -2.70280433],\n",
       "       [ -8.83491978,  -2.71468478],\n",
       "       [ -7.70254463,  -2.40490791],\n",
       "       [ -8.14343442,  -2.21830581],\n",
       "       [ -8.71638141,  -2.27333154],\n",
       "       [ -8.53308776,  -2.59241467],\n",
       "       [-10.35411433,  -2.93523203],\n",
       "       [ -9.898983  ,  -3.94959088],\n",
       "       [ -7.47814732,  -2.83074928],\n",
       "       [ -9.18087337,  -2.65905169],\n",
       "       [ -7.74992194,  -2.08269804],\n",
       "       [ -9.75974366,  -3.74501234],\n",
       "       [ -7.98101912,  -2.52108204],\n",
       "       [ -9.02968589,  -2.49819909],\n",
       "       [ -9.25396648,  -2.95259967],\n",
       "       [ -7.92832868,  -2.35755054],\n",
       "       [ -8.02393132,  -2.18516265],\n",
       "       [ -8.56960279,  -2.7128009 ],\n",
       "       [ -8.96160761,  -3.05718368],\n",
       "       [ -9.25716597,  -3.39490544],\n",
       "       [-10.21988303,  -2.94379809],\n",
       "       [ -8.61661875,  -2.70460669],\n",
       "       [ -7.9882643 ,  -2.53680827],\n",
       "       [ -7.97963916,  -2.78198601],\n",
       "       [ -9.70608171,  -3.35030296],\n",
       "       [ -8.95725921,  -2.16323222],\n",
       "       [ -8.52952692,  -2.46412457],\n",
       "       [ -7.92120701,  -2.10097034],\n",
       "       [ -8.88941877,  -2.64905511],\n",
       "       [ -9.02153644,  -2.59705344],\n",
       "       [ -8.8360619 ,  -2.5269425 ],\n",
       "       [ -7.85832072,  -2.33861605],\n",
       "       [ -9.22553785,  -2.68058357],\n",
       "       [ -9.21774975,  -2.46542225],\n",
       "       [ -8.7279682 ,  -2.54362126],\n",
       "       [ -7.97709693,  -2.70680761],\n",
       "       [ -8.47973089,  -2.47030207],\n",
       "       [ -8.75838934,  -2.05199273],\n",
       "       [ -8.01500109,  -2.15774361]])"
      ]
     },
     "execution_count": 59,
     "metadata": {},
     "output_type": "execute_result"
    }
   ],
   "source": [
    "transformed"
   ]
  },
  {
   "cell_type": "code",
   "execution_count": null,
   "metadata": {
    "collapsed": true
   },
   "outputs": [],
   "source": []
  },
  {
   "cell_type": "code",
   "execution_count": null,
   "metadata": {
    "collapsed": true
   },
   "outputs": [],
   "source": []
  }
 ],
 "metadata": {
  "kernelspec": {
   "display_name": "Python 3",
   "language": "python",
   "name": "python3"
  },
  "language_info": {
   "codemirror_mode": {
    "name": "ipython",
    "version": 3
   },
   "file_extension": ".py",
   "mimetype": "text/x-python",
   "name": "python",
   "nbconvert_exporter": "python",
   "pygments_lexer": "ipython3",
   "version": "3.5.3"
  }
 },
 "nbformat": 4,
 "nbformat_minor": 2
}
