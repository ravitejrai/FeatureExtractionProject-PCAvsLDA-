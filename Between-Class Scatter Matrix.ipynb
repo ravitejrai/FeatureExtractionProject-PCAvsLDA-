{
 "cells": [
  {
   "cell_type": "code",
   "execution_count": 1,
   "metadata": {
    "collapsed": true
   },
   "outputs": [],
   "source": [
    "feature_dict = {i:label for i,label in zip(\n",
    "                range(4),\n",
    "                  ('sepal length in cm',\n",
    "                  'sepal width in cm',\n",
    "                  'petal length in cm',\n",
    "                  'petal width in cm', ))}"
   ]
  },
  {
   "cell_type": "code",
   "execution_count": 2,
   "metadata": {},
   "outputs": [
    {
     "data": {
      "text/html": [
       "<div>\n",
       "<style>\n",
       "    .dataframe thead tr:only-child th {\n",
       "        text-align: right;\n",
       "    }\n",
       "\n",
       "    .dataframe thead th {\n",
       "        text-align: left;\n",
       "    }\n",
       "\n",
       "    .dataframe tbody tr th {\n",
       "        vertical-align: top;\n",
       "    }\n",
       "</style>\n",
       "<table border=\"1\" class=\"dataframe\">\n",
       "  <thead>\n",
       "    <tr style=\"text-align: right;\">\n",
       "      <th></th>\n",
       "      <th>sepal length in cm</th>\n",
       "      <th>sepal width in cm</th>\n",
       "      <th>petal length in cm</th>\n",
       "      <th>petal width in cm</th>\n",
       "      <th>class label</th>\n",
       "    </tr>\n",
       "  </thead>\n",
       "  <tbody>\n",
       "    <tr>\n",
       "      <th>145</th>\n",
       "      <td>6.7</td>\n",
       "      <td>3.0</td>\n",
       "      <td>5.2</td>\n",
       "      <td>2.3</td>\n",
       "      <td>Iris-virginica</td>\n",
       "    </tr>\n",
       "    <tr>\n",
       "      <th>146</th>\n",
       "      <td>6.3</td>\n",
       "      <td>2.5</td>\n",
       "      <td>5.0</td>\n",
       "      <td>1.9</td>\n",
       "      <td>Iris-virginica</td>\n",
       "    </tr>\n",
       "    <tr>\n",
       "      <th>147</th>\n",
       "      <td>6.5</td>\n",
       "      <td>3.0</td>\n",
       "      <td>5.2</td>\n",
       "      <td>2.0</td>\n",
       "      <td>Iris-virginica</td>\n",
       "    </tr>\n",
       "    <tr>\n",
       "      <th>148</th>\n",
       "      <td>6.2</td>\n",
       "      <td>3.4</td>\n",
       "      <td>5.4</td>\n",
       "      <td>2.3</td>\n",
       "      <td>Iris-virginica</td>\n",
       "    </tr>\n",
       "    <tr>\n",
       "      <th>149</th>\n",
       "      <td>5.9</td>\n",
       "      <td>3.0</td>\n",
       "      <td>5.1</td>\n",
       "      <td>1.8</td>\n",
       "      <td>Iris-virginica</td>\n",
       "    </tr>\n",
       "  </tbody>\n",
       "</table>\n",
       "</div>"
      ],
      "text/plain": [
       "     sepal length in cm  sepal width in cm  petal length in cm  \\\n",
       "145                 6.7                3.0                 5.2   \n",
       "146                 6.3                2.5                 5.0   \n",
       "147                 6.5                3.0                 5.2   \n",
       "148                 6.2                3.4                 5.4   \n",
       "149                 5.9                3.0                 5.1   \n",
       "\n",
       "     petal width in cm     class label  \n",
       "145                2.3  Iris-virginica  \n",
       "146                1.9  Iris-virginica  \n",
       "147                2.0  Iris-virginica  \n",
       "148                2.3  Iris-virginica  \n",
       "149                1.8  Iris-virginica  "
      ]
     },
     "execution_count": 2,
     "metadata": {},
     "output_type": "execute_result"
    }
   ],
   "source": [
    "import pandas as pd\n",
    "import numpy as np\n",
    "\n",
    "df = pd.io.parsers.read_csv(\n",
    "    filepath_or_buffer='https://archive.ics.uci.edu/ml/machine-learning-databases/iris/iris.data',\n",
    "    header=None,\n",
    "    sep=',',\n",
    "    )\n",
    "df.columns = [l for i,l in sorted(feature_dict.items())] + ['class label']\n",
    "df.dropna(how=\"all\", inplace=True) # to drop the empty line at file-end\n",
    "\n",
    "df.tail()"
   ]
  },
  {
   "cell_type": "code",
   "execution_count": 3,
   "metadata": {
    "collapsed": true
   },
   "outputs": [],
   "source": [
    "from sklearn.preprocessing import LabelEncoder\n",
    "\n",
    "X = df[['sepal length in cm',\n",
    "                  'sepal width in cm',\n",
    "                  'petal length in cm',\n",
    "                  'petal width in cm',]].values\n",
    "y = df['class label'].values\n",
    "\n",
    "enc = LabelEncoder()\n",
    "label_encoder = enc.fit(y)\n",
    "y = label_encoder.transform(y) + 1\n",
    "\n",
    "label_dict = {1: 'Setosa', 2: 'Versicolor', 3:'Virginica'}"
   ]
  },
  {
   "cell_type": "code",
   "execution_count": 4,
   "metadata": {},
   "outputs": [
    {
     "name": "stdout",
     "output_type": "stream",
     "text": [
      "Mean Vector class 1: [ 5.006  3.418  1.464  0.244]\n",
      "\n",
      "Mean Vector class 2: [ 5.936  2.77   4.26   1.326]\n",
      "\n",
      "Mean Vector class 3: [ 6.588  2.974  5.552  2.026]\n",
      "\n"
     ]
    }
   ],
   "source": [
    "np.set_printoptions(precision=4)\n",
    "\n",
    "mean_vectors = []\n",
    "for cl in range(1,4):\n",
    "    mean_vectors.append(np.mean(X[y==cl], axis=0))\n",
    "    print('Mean Vector class %s: %s\\n' %(cl, mean_vectors[cl-1]))"
   ]
  },
  {
   "cell_type": "code",
   "execution_count": 5,
   "metadata": {},
   "outputs": [
    {
     "name": "stdout",
     "output_type": "stream",
     "text": [
      "between-class Scatter Matrix:\n",
      " [[  63.2121  -19.534   165.1647   71.3631]\n",
      " [ -19.534    10.9776  -56.0552  -22.4924]\n",
      " [ 165.1647  -56.0552  436.6437  186.9081]\n",
      " [  71.3631  -22.4924  186.9081   80.6041]]\n"
     ]
    }
   ],
   "source": [
    "overall_mean = np.mean(X, axis=0)\n",
    "\n",
    "S_B = np.zeros((4,4))\n",
    "for i,mean_vec in enumerate(mean_vectors):  \n",
    "    n = X[y==i+1,:].shape[0]\n",
    "    mean_vec = mean_vec.reshape(4,1) # make column vector\n",
    "    overall_mean = overall_mean.reshape(4,1) # make column vector\n",
    "    S_B += n * (mean_vec - overall_mean).dot((mean_vec - overall_mean).T)\n",
    "\n",
    "print('between-class Scatter Matrix:\\n', S_B)"
   ]
  },
  {
   "cell_type": "code",
   "execution_count": 6,
   "metadata": {},
   "outputs": [
    {
     "name": "stdout",
     "output_type": "stream",
     "text": [
      "eig_val_S_B= [  5.8645e+02   4.9916e+00  -5.7567e-16   2.0433e-14] \n",
      "eig_vec_S_B= [[ 0.3269 -0.3326 -0.8282 -0.1528]\n",
      " [-0.1096 -0.8878  0.1561  0.3829]\n",
      " [ 0.8628  0.1364  0.1076  0.4468]\n",
      " [ 0.3698 -0.2874  0.5274 -0.794 ]] \n",
      "\n"
     ]
    }
   ],
   "source": [
    "# eigenvectors and eigenvalues for the within-class Scatter Matrix:\n",
    "eig_val_S_B, eig_vec_S_B = np.linalg.eig(S_B)\n",
    "print( \"eig_val_S_B=\" , eig_val_S_B , \"\\neig_vec_S_B=\" , eig_vec_S_B , \"\\n\")"
   ]
  },
  {
   "cell_type": "code",
   "execution_count": 8,
   "metadata": {},
   "outputs": [
    {
     "name": "stdout",
     "output_type": "stream",
     "text": [
      "586.445984021\n",
      "4.99161597915\n",
      "2.0432532655e-14\n",
      "5.75672210462e-16\n"
     ]
    }
   ],
   "source": [
    "# Make a list of (eigenvalue, eigenvector) tuples\n",
    "eig_pairs = [(np.abs(eig_val_S_B[i]), eig_vec_S_B[:,i]) for i in range(len(eig_val_S_B))]\n",
    "\n",
    "# Sort the (eigenvalue, eigenvector) tuples from high to low\n",
    "eig_pairs.sort(key=lambda x: x[0], reverse=True)\n",
    "\n",
    "# Visually confirm that the list is correctly sorted by decreasing eigenvalues\n",
    "for i in eig_pairs:\n",
    "    print(i[0])"
   ]
  },
  {
   "cell_type": "code",
   "execution_count": 10,
   "metadata": {},
   "outputs": [
    {
     "data": {
      "text/plain": [
       "[(586.44598402085001, array([ 0.3269, -0.1096,  0.8628,  0.3698])),\n",
       " (4.9916159791497172, array([-0.3326, -0.8878,  0.1364, -0.2874])),\n",
       " (2.0432532654978783e-14, array([-0.1528,  0.3829,  0.4468, -0.794 ])),\n",
       " (5.7567221046184073e-16, array([-0.8282,  0.1561,  0.1076,  0.5274]))]"
      ]
     },
     "execution_count": 10,
     "metadata": {},
     "output_type": "execute_result"
    }
   ],
   "source": [
    "eig_pairs"
   ]
  },
  {
   "cell_type": "code",
   "execution_count": 9,
   "metadata": {},
   "outputs": [
    {
     "name": "stdout",
     "output_type": "stream",
     "text": [
      "Matrix W:\n",
      " [[ 0.3269 -0.3326]\n",
      " [-0.1096 -0.8878]\n",
      " [ 0.8628  0.1364]\n",
      " [ 0.3698 -0.2874]]\n"
     ]
    }
   ],
   "source": [
    "matrix_w = np.hstack((eig_pairs[0][1].reshape(4,1), eig_pairs[1][1].reshape(4,1)))\n",
    "print('Matrix W:\\n', matrix_w)"
   ]
  },
  {
   "cell_type": "code",
   "execution_count": 11,
   "metadata": {},
   "outputs": [
    {
     "data": {
      "text/plain": [
       "(150, 2)"
      ]
     },
     "execution_count": 11,
     "metadata": {},
     "output_type": "execute_result"
    }
   ],
   "source": [
    "transformed = X.dot(matrix_w)\n",
    "transformed.shape"
   ]
  },
  {
   "cell_type": "code",
   "execution_count": 12,
   "metadata": {},
   "outputs": [
    {
     "data": {
      "text/plain": [
       "array([[ 2.5653, -4.6701],\n",
       "       [ 2.5548, -4.1597],\n",
       "       [ 2.3812, -4.2843],\n",
       "       [ 2.532 , -4.135 ],\n",
       "       [ 2.5217, -4.7256],\n",
       "       [ 2.9524, -5.1415],\n",
       "       [ 2.4498, -4.4437],\n",
       "       [ 2.6299, -4.5344],\n",
       "       [ 2.4023, -3.9046],\n",
       "       [ 2.5931, -4.2061],\n",
       "       [ 2.7278, -4.9338],\n",
       "       [ 2.6508, -4.4542],\n",
       "       [ 2.4851, -4.0977],\n",
       "       [ 2.0628, -3.9723],\n",
       "       [ 2.5668, -5.3741],\n",
       "       [ 2.8231, -5.7125],\n",
       "       [ 2.6073, -5.1961],\n",
       "       [ 2.6023, -4.6988],\n",
       "       [ 3.0244, -5.1238],\n",
       "       [ 2.6557, -4.9515],\n",
       "       [ 2.9332, -4.6402],\n",
       "       [ 2.7037, -4.8915],\n",
       "       [ 2.0458, -4.6471],\n",
       "       [ 2.957 , -4.5378],\n",
       "       [ 2.9096, -4.4133],\n",
       "       [ 2.76  , -4.1656],\n",
       "       [ 2.7901, -4.5782],\n",
       "       [ 2.6843, -4.6897],\n",
       "       [ 2.609 , -4.6146],\n",
       "       [ 2.64  , -4.2434],\n",
       "       [ 2.6837, -4.1879],\n",
       "       [ 2.8346, -4.7249],\n",
       "       [ 2.5816, -5.1936],\n",
       "       [ 2.6194, -5.4246],\n",
       "       [ 2.5931, -4.2061],\n",
       "       [ 2.393 , -4.3978],\n",
       "       [ 2.6098, -4.8168],\n",
       "       [ 2.5931, -4.2061],\n",
       "       [ 2.3051, -4.007 ],\n",
       "       [ 2.6626, -4.5677],\n",
       "       [ 2.4834, -4.6792],\n",
       "       [ 2.4514, -3.4476],\n",
       "       [ 2.2831, -4.1846],\n",
       "       [ 2.8531, -4.7245],\n",
       "       [ 3.0378, -4.9257],\n",
       "       [ 2.5591, -4.1551],\n",
       "       [ 2.705 , -4.9091],\n",
       "       [ 2.4348, -4.2374],\n",
       "       [ 2.6951, -4.9005],\n",
       "       [ 2.5546, -4.4593],\n",
       "       [ 6.5102, -4.9304],\n",
       "       [ 6.1785, -4.7869],\n",
       "       [ 6.698 , -4.8098],\n",
       "       [ 5.4776, -3.6992],\n",
       "       [ 6.3413, -4.4514],\n",
       "       [ 5.9196, -4.1414],\n",
       "       [ 6.3444, -4.8438],\n",
       "       [ 4.5556, -3.5977],\n",
       "       [ 6.2891, -4.5159],\n",
       "       [ 5.2864, -3.9969],\n",
       "       [ 4.8047, -3.2486],\n",
       "       [ 5.7782, -4.4839],\n",
       "       [ 5.5411, -3.6905],\n",
       "       [ 6.2489, -4.3647],\n",
       "       [ 5.0994, -4.3197],\n",
       "       [ 6.1643, -4.7828],\n",
       "       [ 5.9389, -4.3432],\n",
       "       [ 5.5072, -4.0543],\n",
       "       [ 6.2227, -3.8325],\n",
       "       [ 5.3282, -3.8662],\n",
       "       [ 6.3849, -4.6658],\n",
       "       [ 5.6189, -4.3427],\n",
       "       [ 6.5677, -4.0776],\n",
       "       [ 6.1859, -4.2185],\n",
       "       [ 5.9649, -4.4903],\n",
       "       [ 6.1426, -4.6607],\n",
       "       [ 6.575 , -4.4951],\n",
       "       [ 6.8039, -4.6983],\n",
       "       [ 6.0807, -4.3875],\n",
       "       [ 4.9678, -4.0141],\n",
       "       [ 5.2201, -3.7578],\n",
       "       [ 5.0969, -3.7427],\n",
       "       [ 5.4086, -4.139 ],\n",
       "       [ 6.6572, -4.1568],\n",
       "       [ 5.8736, -4.2767],\n",
       "       [ 6.0628, -4.8601],\n",
       "       [ 6.4601, -4.7706],\n",
       "       [ 6.0842, -3.9107],\n",
       "       [ 5.5199, -4.3403],\n",
       "       [ 5.4557, -3.8768],\n",
       "       [ 5.7529, -3.8823],\n",
       "       [ 6.1517, -4.4671],\n",
       "       [ 5.5058, -4.0366],\n",
       "       [ 4.5993, -3.5422],\n",
       "       [ 5.639 , -4.0603],\n",
       "       [ 5.6019, -4.3312],\n",
       "       [ 5.6498, -4.2711],\n",
       "       [ 5.8995, -4.4238],\n",
       "       [ 4.3882, -3.8227],\n",
       "       [ 5.5745, -4.196 ],\n",
       "       [ 7.7988, -4.9251],\n",
       "       [ 6.7028, -4.1765],\n",
       "       [ 7.859 , -4.8236],\n",
       "       [ 7.2387, -4.4234],\n",
       "       [ 7.6136, -4.6664],\n",
       "       [ 8.6264, -4.8944],\n",
       "       [ 5.8389, -3.724 ],\n",
       "       [ 8.1695, -4.6605],\n",
       "       [ 7.5859, -4.1741],\n",
       "       [ 8.1464, -5.4772],\n",
       "       [ 6.9138, -4.882 ],\n",
       "       [ 7.0715, -4.3488],\n",
       "       [ 7.4159, -4.7784],\n",
       "       [ 6.6427, -4.0081],\n",
       "       [ 6.8767, -4.409 ],\n",
       "       [ 7.1646, -4.9076],\n",
       "       [ 7.2069, -4.5924],\n",
       "       [ 8.6947, -5.653 ],\n",
       "       [ 9.0357, -4.5891],\n",
       "       [ 6.5888, -3.6978],\n",
       "       [ 7.6731, -5.0194],\n",
       "       [ 6.4909, -4.2548],\n",
       "       [ 8.7303, -4.7077],\n",
       "       [ 6.6567, -4.3413],\n",
       "       [ 7.5228, -4.9841],\n",
       "       [ 7.8451, -4.9345],\n",
       "       [ 6.5268, -4.4105],\n",
       "       [ 6.5584, -4.5412],\n",
       "       [ 7.3933, -4.4541],\n",
       "       [ 7.6205, -4.7268],\n",
       "       [ 8.0776, -4.661 ],\n",
       "       [ 8.4273, -5.7029],\n",
       "       [ 7.4303, -4.4828],\n",
       "       [ 6.7073, -4.3166],\n",
       "       [ 7.0583, -3.9756],\n",
       "       [ 8.3017, -5.0533],\n",
       "       [ 7.4058, -5.0397],\n",
       "       [ 7.1632, -4.6479],\n",
       "       [ 6.4395, -4.5215],\n",
       "       [ 7.3513, -4.914 ],\n",
       "       [ 7.5694, -4.9064],\n",
       "       [ 7.1664, -5.0124],\n",
       "       [ 6.7028, -4.1765],\n",
       "       [ 7.813 , -4.9588],\n",
       "       [ 7.6708, -5.0991],\n",
       "       [ 7.1983, -4.8435],\n",
       "       [ 6.8019, -4.1789],\n",
       "       [ 7.022 , -4.6908],\n",
       "       [ 7.1636, -5.005 ],\n",
       "       [ 6.6656, -4.4474]])"
      ]
     },
     "execution_count": 12,
     "metadata": {},
     "output_type": "execute_result"
    }
   ],
   "source": [
    "transformed"
   ]
  },
  {
   "cell_type": "code",
   "execution_count": null,
   "metadata": {
    "collapsed": true
   },
   "outputs": [],
   "source": []
  }
 ],
 "metadata": {
  "kernelspec": {
   "display_name": "Python 3",
   "language": "python",
   "name": "python3"
  },
  "language_info": {
   "codemirror_mode": {
    "name": "ipython",
    "version": 3
   },
   "file_extension": ".py",
   "mimetype": "text/x-python",
   "name": "python",
   "nbconvert_exporter": "python",
   "pygments_lexer": "ipython3",
   "version": "3.5.3"
  }
 },
 "nbformat": 4,
 "nbformat_minor": 2
}
