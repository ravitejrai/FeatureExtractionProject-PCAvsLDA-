{
 "cells": [
  {
   "cell_type": "code",
   "execution_count": 3,
   "metadata": {
    "collapsed": true
   },
   "outputs": [],
   "source": [
    "feature_dict = {i:label for i,label in zip(\n",
    "                range(4),\n",
    "                  ('sepal length in cm',\n",
    "                  'sepal width in cm',\n",
    "                  'petal length in cm',\n",
    "                  'petal width in cm', ))}\n"
   ]
  },
  {
   "cell_type": "code",
   "execution_count": 4,
   "metadata": {},
   "outputs": [
    {
     "data": {
      "text/html": [
       "<div>\n",
       "<style>\n",
       "    .dataframe thead tr:only-child th {\n",
       "        text-align: right;\n",
       "    }\n",
       "\n",
       "    .dataframe thead th {\n",
       "        text-align: left;\n",
       "    }\n",
       "\n",
       "    .dataframe tbody tr th {\n",
       "        vertical-align: top;\n",
       "    }\n",
       "</style>\n",
       "<table border=\"1\" class=\"dataframe\">\n",
       "  <thead>\n",
       "    <tr style=\"text-align: right;\">\n",
       "      <th></th>\n",
       "      <th>sepal length in cm</th>\n",
       "      <th>sepal width in cm</th>\n",
       "      <th>petal length in cm</th>\n",
       "      <th>petal width in cm</th>\n",
       "      <th>class label</th>\n",
       "    </tr>\n",
       "  </thead>\n",
       "  <tbody>\n",
       "    <tr>\n",
       "      <th>145</th>\n",
       "      <td>6.7</td>\n",
       "      <td>3.0</td>\n",
       "      <td>5.2</td>\n",
       "      <td>2.3</td>\n",
       "      <td>Iris-virginica</td>\n",
       "    </tr>\n",
       "    <tr>\n",
       "      <th>146</th>\n",
       "      <td>6.3</td>\n",
       "      <td>2.5</td>\n",
       "      <td>5.0</td>\n",
       "      <td>1.9</td>\n",
       "      <td>Iris-virginica</td>\n",
       "    </tr>\n",
       "    <tr>\n",
       "      <th>147</th>\n",
       "      <td>6.5</td>\n",
       "      <td>3.0</td>\n",
       "      <td>5.2</td>\n",
       "      <td>2.0</td>\n",
       "      <td>Iris-virginica</td>\n",
       "    </tr>\n",
       "    <tr>\n",
       "      <th>148</th>\n",
       "      <td>6.2</td>\n",
       "      <td>3.4</td>\n",
       "      <td>5.4</td>\n",
       "      <td>2.3</td>\n",
       "      <td>Iris-virginica</td>\n",
       "    </tr>\n",
       "    <tr>\n",
       "      <th>149</th>\n",
       "      <td>5.9</td>\n",
       "      <td>3.0</td>\n",
       "      <td>5.1</td>\n",
       "      <td>1.8</td>\n",
       "      <td>Iris-virginica</td>\n",
       "    </tr>\n",
       "  </tbody>\n",
       "</table>\n",
       "</div>"
      ],
      "text/plain": [
       "     sepal length in cm  sepal width in cm  petal length in cm  \\\n",
       "145                 6.7                3.0                 5.2   \n",
       "146                 6.3                2.5                 5.0   \n",
       "147                 6.5                3.0                 5.2   \n",
       "148                 6.2                3.4                 5.4   \n",
       "149                 5.9                3.0                 5.1   \n",
       "\n",
       "     petal width in cm     class label  \n",
       "145                2.3  Iris-virginica  \n",
       "146                1.9  Iris-virginica  \n",
       "147                2.0  Iris-virginica  \n",
       "148                2.3  Iris-virginica  \n",
       "149                1.8  Iris-virginica  "
      ]
     },
     "execution_count": 4,
     "metadata": {},
     "output_type": "execute_result"
    }
   ],
   "source": [
    "import pandas as pd\n",
    "import numpy as np\n",
    "\n",
    "df = pd.io.parsers.read_csv(\n",
    "    filepath_or_buffer='https://archive.ics.uci.edu/ml/machine-learning-databases/iris/iris.data',\n",
    "    header=None,\n",
    "    sep=',',\n",
    "    )\n",
    "df.columns = [l for i,l in sorted(feature_dict.items())] + ['class label']\n",
    "df.dropna(how=\"all\", inplace=True) # to drop the empty line at file-end\n",
    "\n",
    "df.tail()\n"
   ]
  },
  {
   "cell_type": "code",
   "execution_count": 5,
   "metadata": {
    "collapsed": true
   },
   "outputs": [],
   "source": [
    "from sklearn.preprocessing import LabelEncoder\n",
    "\n",
    "X = df[['sepal length in cm',\n",
    "                  'sepal width in cm',\n",
    "                  'petal length in cm',\n",
    "                  'petal width in cm',]].values\n",
    "y = df['class label'].values\n",
    "\n",
    "enc = LabelEncoder()\n",
    "label_encoder = enc.fit(y)\n",
    "y = label_encoder.transform(y) + 1\n",
    "\n",
    "label_dict = {1: 'Setosa', 2: 'Versicolor', 3:'Virginica'}"
   ]
  },
  {
   "cell_type": "markdown",
   "metadata": {},
   "source": [
    "# Computing the d-dimensional mean vectors"
   ]
  },
  {
   "cell_type": "code",
   "execution_count": 6,
   "metadata": {},
   "outputs": [
    {
     "name": "stdout",
     "output_type": "stream",
     "text": [
      "Mean Vector class 1: [ 5.006  3.418  1.464  0.244]\n",
      "\n",
      "Mean Vector class 2: [ 5.936  2.77   4.26   1.326]\n",
      "\n",
      "Mean Vector class 3: [ 6.588  2.974  5.552  2.026]\n",
      "\n"
     ]
    }
   ],
   "source": [
    "np.set_printoptions(precision=4)\n",
    "\n",
    "mean_vectors = []\n",
    "for cl in range(1,4):\n",
    "    mean_vectors.append(np.mean(X[y==cl], axis=0))\n",
    "    print('Mean Vector class %s: %s\\n' %(cl, mean_vectors[cl-1]))\n"
   ]
  },
  {
   "cell_type": "markdown",
   "metadata": {},
   "source": [
    "# Step 2: Computing the Within-class Scatter Matrices"
   ]
  },
  {
   "cell_type": "code",
   "execution_count": 7,
   "metadata": {},
   "outputs": [
    {
     "name": "stdout",
     "output_type": "stream",
     "text": [
      "within-class Scatter Matrix:\n",
      " [[ 38.9562  13.683   24.614    5.6556]\n",
      " [ 13.683   17.035    8.12     4.9132]\n",
      " [ 24.614    8.12    27.22     6.2536]\n",
      " [  5.6556   4.9132   6.2536   6.1756]]\n"
     ]
    }
   ],
   "source": [
    "S_W = np.zeros((4,4))\n",
    "for cl,mv in zip(range(1,4), mean_vectors):\n",
    "    class_sc_mat = np.zeros((4,4))                  # scatter matrix for every class\n",
    "    for row in X[y == cl]:\n",
    "        row, mv = row.reshape(4,1), mv.reshape(4,1) # make column vectors\n",
    "        class_sc_mat += (row-mv).dot((row-mv).T)\n",
    "    S_W += class_sc_mat                             # sum class scatter matrices\n",
    "print('within-class Scatter Matrix:\\n', S_W)"
   ]
  },
  {
   "cell_type": "code",
   "execution_count": 8,
   "metadata": {},
   "outputs": [
    {
     "name": "stdout",
     "output_type": "stream",
     "text": [
      "eig_val_S_W= [ 65.237    3.2595   8.1396  12.7507] \n",
      "eig_vec_S_W= [[ 0.7375  0.2302 -0.6321  0.0593]\n",
      " [ 0.3219 -0.3266  0.1749 -0.8713]\n",
      " [ 0.5723 -0.3472  0.5843  0.4588]\n",
      " [ 0.158   0.8484  0.4779 -0.1637]] \n",
      "\n"
     ]
    }
   ],
   "source": [
    "# eigenvectors and eigenvalues for the within-class Scatter Matrix:\n",
    "eig_val_S_W, eig_vec_S_W = np.linalg.eig(S_W)\n",
    "print( \"eig_val_S_W=\" , eig_val_S_W , \"\\neig_vec_S_W=\" , eig_vec_S_W , \"\\n\")"
   ]
  },
  {
   "cell_type": "code",
   "execution_count": 9,
   "metadata": {},
   "outputs": [
    {
     "name": "stdout",
     "output_type": "stream",
     "text": [
      "65.2370101074\n",
      "12.7506937244\n",
      "8.13955740658\n",
      "3.25953876162\n"
     ]
    }
   ],
   "source": [
    "# Make a list of (eigenvalue, eigenvector) tuples\n",
    "eig_pairs = [(np.abs(eig_val_S_W[i]), eig_vec_S_W[:,i]) for i in range(len(eig_val_S_W))]\n",
    "\n",
    "# Sort the (eigenvalue, eigenvector) tuples from high to low\n",
    "eig_pairs.sort(key=lambda x: x[0], reverse=True)\n",
    "\n",
    "# Visually confirm that the list is correctly sorted by decreasing eigenvalues\n",
    "for i in eig_pairs:\n",
    "    print(i[0])"
   ]
  },
  {
   "cell_type": "code",
   "execution_count": 11,
   "metadata": {},
   "outputs": [
    {
     "data": {
      "text/plain": [
       "[(65.237010107399598, array([ 0.7375,  0.3219,  0.5723,  0.158 ])),\n",
       " (12.750693724401781, array([ 0.0593, -0.8713,  0.4588, -0.1637])),\n",
       " (8.13955740658289, array([-0.6321,  0.1749,  0.5843,  0.4779])),\n",
       " (3.2595387616156577, array([ 0.2302, -0.3266, -0.3472,  0.8484]))]"
      ]
     },
     "execution_count": 11,
     "metadata": {},
     "output_type": "execute_result"
    }
   ],
   "source": [
    "eig_pairs"
   ]
  },
  {
   "cell_type": "code",
   "execution_count": 10,
   "metadata": {},
   "outputs": [
    {
     "name": "stdout",
     "output_type": "stream",
     "text": [
      "Matrix W:\n",
      " [[-0.6321  0.2302]\n",
      " [ 0.1749 -0.3266]\n",
      " [ 0.5843 -0.3472]\n",
      " [ 0.4779  0.8484]]\n"
     ]
    }
   ],
   "source": [
    "matrix_w = np.hstack((eig_pairs[2][1].reshape(4,1), eig_pairs[3][1].reshape(4,1)))\n",
    "print('Matrix W:\\n', matrix_w)"
   ]
  },
  {
   "cell_type": "code",
   "execution_count": 12,
   "metadata": {},
   "outputs": [
    {
     "data": {
      "text/plain": [
       "(150, 2)"
      ]
     },
     "execution_count": 12,
     "metadata": {},
     "output_type": "execute_result"
    }
   ],
   "source": [
    "transformed = X.dot(matrix_w)\n",
    "transformed.shape"
   ]
  },
  {
   "cell_type": "code",
   "execution_count": 13,
   "metadata": {},
   "outputs": [
    {
     "data": {
      "text/plain": [
       "array([[ -1.6978e+00,  -2.8550e-01],\n",
       "       [ -1.6589e+00,  -1.6825e-01],\n",
       "       [ -1.5559e+00,  -2.4488e-01],\n",
       "       [ -1.3933e+00,  -3.0468e-01],\n",
       "       [ -1.6171e+00,  -3.4117e-01],\n",
       "       [ -1.5466e+00,  -2.8155e-01],\n",
       "       [ -1.3515e+00,  -2.8309e-01],\n",
       "       [ -1.5937e+00,  -3.1058e-01],\n",
       "       [ -1.3603e+00,  -2.5068e-01],\n",
       "       [ -1.6307e+00,  -3.2047e-01],\n",
       "       [ -1.7940e+00,  -3.1648e-01],\n",
       "       [ -1.4088e+00,  -3.9134e-01],\n",
       "       [ -1.6434e+00,  -2.7611e-01],\n",
       "       [ -1.5027e+00,  -2.8703e-01],\n",
       "       [ -2.1697e+00,  -2.1821e-01],\n",
       "       [ -1.7656e+00,  -3.0634e-01],\n",
       "       [ -1.7803e+00,  -1.4266e-01],\n",
       "       [ -1.6500e+00,  -2.0066e-01],\n",
       "       [ -1.8015e+00,  -2.6469e-01],\n",
       "       [ -1.5391e+00,  -3.3335e-01],\n",
       "       [ -1.7296e+00,  -2.8796e-01],\n",
       "       [ -1.5088e+00,  -2.1585e-01],\n",
       "       [ -1.5980e+00,  -2.9435e-01],\n",
       "       [ -1.4141e+00,  -6.9825e-02],\n",
       "       [ -1.2335e+00,  -4.9550e-01],\n",
       "       [ -1.6052e+00,  -2.1468e-01],\n",
       "       [ -1.4396e+00,  -1.7562e-01],\n",
       "       [ -1.7026e+00,  -2.9720e-01],\n",
       "       [ -1.7785e+00,  -2.2982e-01],\n",
       "       [ -1.3806e+00,  -3.4904e-01],\n",
       "       [ -1.4613e+00,  -2.9337e-01],\n",
       "       [ -1.7509e+00,  -4.8828e-02],\n",
       "       [ -1.6454e+00,  -5.7798e-01],\n",
       "       [ -1.8282e+00,  -4.2202e-01],\n",
       "       [ -1.6307e+00,  -3.2047e-01],\n",
       "       [ -1.8039e+00,  -1.4110e-01],\n",
       "       [ -2.0091e+00,  -1.5871e-01],\n",
       "       [ -1.6307e+00,  -3.2047e-01],\n",
       "       [ -1.4012e+00,  -2.4862e-01],\n",
       "       [ -1.6569e+00,  -2.8756e-01],\n",
       "       [ -1.6452e+00,  -1.8895e-01],\n",
       "       [ -1.5391e+00,   8.7834e-02],\n",
       "       [ -1.3663e+00,  -3.1393e-01],\n",
       "       [ -1.3266e+00,  -3.8590e-02],\n",
       "       [ -1.2576e+00,  -3.8739e-01],\n",
       "       [ -1.5478e+00,  -1.0643e-01],\n",
       "       [ -1.5285e+00,  -4.5291e-01],\n",
       "       [ -1.4342e+00,  -3.0262e-01],\n",
       "       [ -1.7308e+00,  -3.3950e-01],\n",
       "       [ -1.6696e+00,  -2.4320e-01],\n",
       "       [ -4.4947e-01,   1.2209e-01],\n",
       "       [ -1.3929e-01,   1.3827e-01],\n",
       "       [ -2.3910e-01,   1.4712e-01],\n",
       "       [ -1.1558e-01,   2.2894e-01],\n",
       "       [ -2.1403e-01,   2.5719e-01],\n",
       "       [  1.3762e-01,  -6.1914e-02],\n",
       "       [  1.0607e-01,   9.7993e-02],\n",
       "       [ -2.7124e-01,   4.6706e-02],\n",
       "       [ -3.5534e-01,   7.7864e-02],\n",
       "       [  1.3338e-01,   1.4883e-01],\n",
       "       [ -2.8755e-01,   1.3090e-01],\n",
       "       [ -3.3520e-02,   1.9266e-01],\n",
       "       [ -5.9250e-01,   1.2216e-01],\n",
       "       [  6.6935e-02,   1.2898e-02],\n",
       "       [ -3.0757e-01,   1.9491e-01],\n",
       "       [ -4.5263e-01,   1.8985e-01],\n",
       "       [  3.3140e-01,   1.9441e-02],\n",
       "       [ -3.2019e-01,  -1.2188e-01],\n",
       "       [ -1.8779e-01,   4.1879e-01],\n",
       "       [ -2.9783e-01,   5.1683e-02],\n",
       "       [  4.9544e-01,   1.7354e-01],\n",
       "       [ -4.0738e-01,   2.0376e-01],\n",
       "       [  3.5207e-02,   2.0495e-01],\n",
       "       [ -4.6146e-02,  -1.2413e-01],\n",
       "       [ -4.0422e-01,   1.3599e-01],\n",
       "       [ -4.0692e-01,   1.9949e-01],\n",
       "       [ -3.3459e-01,   1.7195e-01],\n",
       "       [  2.3851e-02,   2.6871e-01],\n",
       "       [  6.1075e-02,   1.4417e-01],\n",
       "       [ -6.2507e-01,   9.6089e-02],\n",
       "       [ -3.1054e-01,   9.6043e-02],\n",
       "       [ -4.1677e-01,   4.5923e-02],\n",
       "       [ -3.4147e-01,   1.1725e-01],\n",
       "       [  4.2448e-01,   8.5990e-02],\n",
       "       [  4.5782e-01,  -2.6594e-02],\n",
       "       [  1.9633e-01,   6.5728e-02],\n",
       "       [ -2.2954e-01,   1.7053e-01],\n",
       "       [ -3.8753e-01,   2.7419e-01],\n",
       "       [  2.0869e-03,  -1.1356e-02],\n",
       "       [ -8.0597e-02,   1.6363e-01],\n",
       "       [  1.2283e-01,  -9.2757e-02],\n",
       "       [  2.5995e-02,   1.4964e-02],\n",
       "       [ -3.0053e-01,   1.1518e-01],\n",
       "       [ -3.5194e-01,   1.0238e-01],\n",
       "       [  8.0425e-03,   5.1890e-02],\n",
       "       [ -5.0485e-02,  -1.0790e-01],\n",
       "       [ -2.0183e-02,   9.5953e-03],\n",
       "       [ -2.7780e-01,   8.9960e-02],\n",
       "       [ -5.0767e-01,   2.4909e-01],\n",
       "       [ -9.6107e-02,   7.6973e-02],\n",
       "       [  1.2958e+00,   4.1019e-01],\n",
       "       [  6.9428e-01,   2.9448e-01],\n",
       "       [  4.8808e-01,   3.8765e-01],\n",
       "       [  6.5758e-01,   8.5805e-02],\n",
       "       [  8.5670e-01,   3.6911e-01],\n",
       "       [  5.8106e-01,   2.5968e-01],\n",
       "       [  7.8200e-01,   1.9128e-01],\n",
       "       [  4.3451e-01,   7.2925e-02],\n",
       "       [  4.5164e-01,   2.3905e-01],\n",
       "       [  8.3787e-01,   4.8465e-01],\n",
       "       [  3.8707e-01,   3.7716e-01],\n",
       "       [  4.3189e-01,   3.6314e-01],\n",
       "       [  4.4398e-01,   4.5748e-01],\n",
       "       [  7.1187e-01,   4.5634e-01],\n",
       "       [  9.5074e-01,   6.8604e-01],\n",
       "       [  7.1053e-01,   5.3923e-01],\n",
       "       [  4.9022e-01,   1.3391e-01],\n",
       "       [  7.6401e-01,   7.1572e-02],\n",
       "       [  7.1877e-01,   4.7884e-01],\n",
       "       [  2.3079e-01,   1.9915e-01],\n",
       "       [  6.2821e-01,   5.1543e-01],\n",
       "       [  7.6912e-01,   3.7008e-01],\n",
       "       [  4.9350e-01,   2.2845e-01],\n",
       "       [  2.1357e-01,   3.9417e-01],\n",
       "       [  6.7653e-01,   2.6705e-01],\n",
       "       [  3.7490e-01,   5.6105e-02],\n",
       "       [  2.3584e-01,   3.7322e-01],\n",
       "       [  3.9247e-01,   2.5017e-01],\n",
       "       [  7.2026e-01,   3.9600e-01],\n",
       "       [  1.2747e-01,   2.1177e-02],\n",
       "       [  2.8474e-01,   2.8288e-01],\n",
       "       [  3.6671e-01,   5.2088e-02],\n",
       "       [  7.6806e-01,   4.8085e-01],\n",
       "       [  2.0455e-01,   3.7543e-02],\n",
       "       [  5.4035e-01,  -2.0163e-01],\n",
       "       [  3.2128e-01,   6.2599e-01],\n",
       "       [  1.0318e+00,   4.3158e-01],\n",
       "       [  5.7093e-01,   7.8232e-02],\n",
       "       [  3.9725e-01,   2.6187e-01],\n",
       "       [  3.3983e-01,   4.8257e-01],\n",
       "       [  7.2650e-01,   6.2161e-01],\n",
       "       [  2.6012e-01,   7.5642e-01],\n",
       "       [  6.9428e-01,   2.9448e-01],\n",
       "       [  8.0828e-01,   4.2297e-01],\n",
       "       [  8.6771e-01,   6.0642e-01],\n",
       "       [  4.2748e-01,   7.0832e-01],\n",
       "       [  2.8482e-01,   5.0960e-01],\n",
       "       [  4.1052e-01,   4.0775e-01],\n",
       "       [  9.3036e-01,   3.9316e-01],\n",
       "       [  6.3575e-01,   1.3469e-01]])"
      ]
     },
     "execution_count": 13,
     "metadata": {},
     "output_type": "execute_result"
    }
   ],
   "source": [
    "transformed"
   ]
  },
  {
   "cell_type": "code",
   "execution_count": null,
   "metadata": {
    "collapsed": true
   },
   "outputs": [],
   "source": []
  }
 ],
 "metadata": {
  "kernelspec": {
   "display_name": "Python 3",
   "language": "python",
   "name": "python3"
  },
  "language_info": {
   "codemirror_mode": {
    "name": "ipython",
    "version": 3
   },
   "file_extension": ".py",
   "mimetype": "text/x-python",
   "name": "python",
   "nbconvert_exporter": "python",
   "pygments_lexer": "ipython3",
   "version": "3.5.3"
  }
 },
 "nbformat": 4,
 "nbformat_minor": 2
}
