{
 "cells": [
  {
   "cell_type": "code",
   "execution_count": 1,
   "metadata": {
    "collapsed": true
   },
   "outputs": [],
   "source": [
    "feature_dict = {i:label for i,label in zip(\n",
    "                range(4),\n",
    "                  ('sepal length in cm',\n",
    "                  'sepal width in cm',\n",
    "                  'petal length in cm',\n",
    "                  'petal width in cm', ))}"
   ]
  },
  {
   "cell_type": "code",
   "execution_count": 2,
   "metadata": {},
   "outputs": [
    {
     "data": {
      "text/html": [
       "<div>\n",
       "<style>\n",
       "    .dataframe thead tr:only-child th {\n",
       "        text-align: right;\n",
       "    }\n",
       "\n",
       "    .dataframe thead th {\n",
       "        text-align: left;\n",
       "    }\n",
       "\n",
       "    .dataframe tbody tr th {\n",
       "        vertical-align: top;\n",
       "    }\n",
       "</style>\n",
       "<table border=\"1\" class=\"dataframe\">\n",
       "  <thead>\n",
       "    <tr style=\"text-align: right;\">\n",
       "      <th></th>\n",
       "      <th>sepal length in cm</th>\n",
       "      <th>sepal width in cm</th>\n",
       "      <th>petal length in cm</th>\n",
       "      <th>petal width in cm</th>\n",
       "      <th>class label</th>\n",
       "    </tr>\n",
       "  </thead>\n",
       "  <tbody>\n",
       "    <tr>\n",
       "      <th>145</th>\n",
       "      <td>6.7</td>\n",
       "      <td>3.0</td>\n",
       "      <td>5.2</td>\n",
       "      <td>2.3</td>\n",
       "      <td>Iris-virginica</td>\n",
       "    </tr>\n",
       "    <tr>\n",
       "      <th>146</th>\n",
       "      <td>6.3</td>\n",
       "      <td>2.5</td>\n",
       "      <td>5.0</td>\n",
       "      <td>1.9</td>\n",
       "      <td>Iris-virginica</td>\n",
       "    </tr>\n",
       "    <tr>\n",
       "      <th>147</th>\n",
       "      <td>6.5</td>\n",
       "      <td>3.0</td>\n",
       "      <td>5.2</td>\n",
       "      <td>2.0</td>\n",
       "      <td>Iris-virginica</td>\n",
       "    </tr>\n",
       "    <tr>\n",
       "      <th>148</th>\n",
       "      <td>6.2</td>\n",
       "      <td>3.4</td>\n",
       "      <td>5.4</td>\n",
       "      <td>2.3</td>\n",
       "      <td>Iris-virginica</td>\n",
       "    </tr>\n",
       "    <tr>\n",
       "      <th>149</th>\n",
       "      <td>5.9</td>\n",
       "      <td>3.0</td>\n",
       "      <td>5.1</td>\n",
       "      <td>1.8</td>\n",
       "      <td>Iris-virginica</td>\n",
       "    </tr>\n",
       "  </tbody>\n",
       "</table>\n",
       "</div>"
      ],
      "text/plain": [
       "     sepal length in cm  sepal width in cm  petal length in cm  \\\n",
       "145                 6.7                3.0                 5.2   \n",
       "146                 6.3                2.5                 5.0   \n",
       "147                 6.5                3.0                 5.2   \n",
       "148                 6.2                3.4                 5.4   \n",
       "149                 5.9                3.0                 5.1   \n",
       "\n",
       "     petal width in cm     class label  \n",
       "145                2.3  Iris-virginica  \n",
       "146                1.9  Iris-virginica  \n",
       "147                2.0  Iris-virginica  \n",
       "148                2.3  Iris-virginica  \n",
       "149                1.8  Iris-virginica  "
      ]
     },
     "execution_count": 2,
     "metadata": {},
     "output_type": "execute_result"
    }
   ],
   "source": [
    "import pandas as pd\n",
    "import numpy as np\n",
    "\n",
    "df = pd.io.parsers.read_csv(\n",
    "    filepath_or_buffer='https://archive.ics.uci.edu/ml/machine-learning-databases/iris/iris.data',\n",
    "    header=None,\n",
    "    sep=',',\n",
    "    )\n",
    "df.columns = [l for i,l in sorted(feature_dict.items())] + ['class label']\n",
    "df.dropna(how=\"all\", inplace=True) # to drop the empty line at file-end\n",
    "\n",
    "df.tail()"
   ]
  },
  {
   "cell_type": "code",
   "execution_count": 3,
   "metadata": {
    "collapsed": true
   },
   "outputs": [],
   "source": [
    "from sklearn.preprocessing import LabelEncoder\n",
    "\n",
    "X = df[['sepal length in cm',\n",
    "                  'sepal width in cm',\n",
    "                  'petal length in cm',\n",
    "                  'petal width in cm',]].values\n",
    "y = df['class label'].values\n",
    "\n",
    "enc = LabelEncoder()\n",
    "label_encoder = enc.fit(y)\n",
    "y = label_encoder.transform(y) + 1\n",
    "\n",
    "label_dict = {1: 'Setosa', 2: 'Versicolor', 3:'Virginica'}"
   ]
  },
  {
   "cell_type": "code",
   "execution_count": 4,
   "metadata": {},
   "outputs": [
    {
     "name": "stdout",
     "output_type": "stream",
     "text": [
      "Mean Vector class 1: [ 5.006  3.418  1.464  0.244]\n",
      "\n",
      "Mean Vector class 2: [ 5.936  2.77   4.26   1.326]\n",
      "\n",
      "Mean Vector class 3: [ 6.588  2.974  5.552  2.026]\n",
      "\n"
     ]
    }
   ],
   "source": [
    "np.set_printoptions(precision=4)\n",
    "\n",
    "mean_vectors = []\n",
    "for cl in range(1,4):\n",
    "    mean_vectors.append(np.mean(X[y==cl], axis=0))\n",
    "    print('Mean Vector class %s: %s\\n' %(cl, mean_vectors[cl-1]))"
   ]
  },
  {
   "cell_type": "code",
   "execution_count": 5,
   "metadata": {},
   "outputs": [
    {
     "name": "stdout",
     "output_type": "stream",
     "text": [
      "between-class Scatter Matrix:\n",
      " [[  63.2121  -19.534   165.1647   71.3631]\n",
      " [ -19.534    10.9776  -56.0552  -22.4924]\n",
      " [ 165.1647  -56.0552  436.6437  186.9081]\n",
      " [  71.3631  -22.4924  186.9081   80.6041]]\n"
     ]
    }
   ],
   "source": [
    "overall_mean = np.mean(X, axis=0)\n",
    "\n",
    "S_B = np.zeros((4,4))\n",
    "for i,mean_vec in enumerate(mean_vectors):  \n",
    "    n = X[y==i+1,:].shape[0]\n",
    "    mean_vec = mean_vec.reshape(4,1) # make column vector\n",
    "    overall_mean = overall_mean.reshape(4,1) # make column vector\n",
    "    S_B += n * (mean_vec - overall_mean).dot((mean_vec - overall_mean).T)\n",
    "\n",
    "print('between-class Scatter Matrix:\\n', S_B)"
   ]
  },
  {
   "cell_type": "code",
   "execution_count": 6,
   "metadata": {},
   "outputs": [
    {
     "name": "stdout",
     "output_type": "stream",
     "text": [
      "within-class Scatter Matrix:\n",
      " [[ 38.9562  13.683   24.614    5.6556]\n",
      " [ 13.683   17.035    8.12     4.9132]\n",
      " [ 24.614    8.12    27.22     6.2536]\n",
      " [  5.6556   4.9132   6.2536   6.1756]]\n"
     ]
    }
   ],
   "source": [
    "S_W = np.zeros((4,4))\n",
    "for cl,mv in zip(range(1,4), mean_vectors):\n",
    "    class_sc_mat = np.zeros((4,4))                  # scatter matrix for every class\n",
    "    for row in X[y == cl]:\n",
    "        row, mv = row.reshape(4,1), mv.reshape(4,1) # make column vectors\n",
    "        class_sc_mat += (row-mv).dot((row-mv).T)\n",
    "    S_W += class_sc_mat                             # sum class scatter matrices\n",
    "print('within-class Scatter Matrix:\\n', S_W)"
   ]
  },
  {
   "cell_type": "code",
   "execution_count": 8,
   "metadata": {},
   "outputs": [
    {
     "data": {
      "text/plain": [
       "array([[ 0.074 , -0.0371, -0.0613,  0.0238],\n",
       "       [-0.0371,  0.0976,  0.0188, -0.0628],\n",
       "       [-0.0613,  0.0188,  0.1005, -0.0606],\n",
       "       [ 0.0238, -0.0628, -0.0606,  0.2514]])"
      ]
     },
     "execution_count": 8,
     "metadata": {},
     "output_type": "execute_result"
    }
   ],
   "source": [
    "S_W_inv = np.linalg.inv(S_W)\n",
    "S_W_inv"
   ]
  },
  {
   "cell_type": "code",
   "execution_count": 10,
   "metadata": {},
   "outputs": [
    {
     "data": {
      "text/plain": [
       "array([[ -3.0247,   1.0485,  -8.0187,  -3.4249],\n",
       "       [ -5.6209,   2.1525, -15.1084,  -6.3827],\n",
       "       [  8.029 ,  -2.8654,  21.3687,   9.0984],\n",
       "       [ 10.6672,  -3.4133,  27.9905,  12.0531]])"
      ]
     },
     "execution_count": 10,
     "metadata": {},
     "output_type": "execute_result"
    }
   ],
   "source": [
    "max_ratio = np.dot(S_W_inv,S_B)\n",
    "max_ratio"
   ]
  },
  {
   "cell_type": "code",
   "execution_count": 11,
   "metadata": {},
   "outputs": [
    {
     "name": "stdout",
     "output_type": "stream",
     "text": [
      "eig_val_max_ratio= [  3.2272e+01   2.7757e-01   3.4225e-15   1.1483e-14] \n",
      "eig_vec_max_ratio= [[-0.2049 -0.009  -0.8844 -0.2234]\n",
      " [-0.3871 -0.589   0.2854 -0.2523]\n",
      " [ 0.5465  0.2543  0.258  -0.326 ]\n",
      " [ 0.7138 -0.767   0.2643  0.8833]]\n"
     ]
    }
   ],
   "source": [
    "# eigenvectors and eigenvalues for the within-class Scatter Matrix:\n",
    "eig_val_max_ratio, eig_vec_max_ratio = np.linalg.eig(max_ratio)\n",
    "print( \"eig_val_max_ratio=\" , eig_val_max_ratio , \"\\neig_vec_max_ratio=\" , eig_vec_max_ratio)"
   ]
  },
  {
   "cell_type": "code",
   "execution_count": 13,
   "metadata": {},
   "outputs": [
    {
     "name": "stdout",
     "output_type": "stream",
     "text": [
      "32.2719577997\n",
      "0.27756686384\n",
      "1.14833622793e-14\n",
      "3.42245892085e-15\n"
     ]
    }
   ],
   "source": [
    "# Make a list of (eigenvalue, eigenvector) tuples\n",
    "eig_pairs = [(np.abs(eig_val_max_ratio[i]), eig_vec_max_ratio[:,i]) for i in range(len(eig_val_max_ratio))]\n",
    "\n",
    "# Sort the (eigenvalue, eigenvector) tuples from high to low\n",
    "eig_pairs.sort(key=lambda x: x[0], reverse=True)\n",
    "\n",
    "# Visually confirm that the list is correctly sorted by decreasing eigenvalues\n",
    "for i in eig_pairs:\n",
    "    print(i[0])"
   ]
  },
  {
   "cell_type": "code",
   "execution_count": 15,
   "metadata": {},
   "outputs": [
    {
     "data": {
      "text/plain": [
       "[(32.271957799729812, array([-0.2049, -0.3871,  0.5465,  0.7138])),\n",
       " (0.27756686384003953, array([-0.009 , -0.589 ,  0.2543, -0.767 ])),\n",
       " (1.1483362279322388e-14, array([-0.2234, -0.2523, -0.326 ,  0.8833])),\n",
       " (3.4224589208497691e-15, array([-0.8844,  0.2854,  0.258 ,  0.2643]))]"
      ]
     },
     "execution_count": 15,
     "metadata": {},
     "output_type": "execute_result"
    }
   ],
   "source": [
    "eig_pairs"
   ]
  },
  {
   "cell_type": "code",
   "execution_count": 14,
   "metadata": {},
   "outputs": [
    {
     "name": "stdout",
     "output_type": "stream",
     "text": [
      "Matrix W:\n",
      " [[-0.2049 -0.009 ]\n",
      " [-0.3871 -0.589 ]\n",
      " [ 0.5465  0.2543]\n",
      " [ 0.7138 -0.767 ]]\n"
     ]
    }
   ],
   "source": [
    "matrix_w = np.hstack((eig_pairs[0][1].reshape(4,1), eig_pairs[1][1].reshape(4,1)))\n",
    "print('Matrix W:\\n', matrix_w)"
   ]
  },
  {
   "cell_type": "code",
   "execution_count": 16,
   "metadata": {},
   "outputs": [
    {
     "data": {
      "text/plain": [
       "(150, 2)"
      ]
     },
     "execution_count": 16,
     "metadata": {},
     "output_type": "execute_result"
    }
   ],
   "source": [
    "transformed = X.dot(matrix_w)\n",
    "transformed.shape"
   ]
  },
  {
   "cell_type": "code",
   "execution_count": 17,
   "metadata": {},
   "outputs": [
    {
     "data": {
      "text/plain": [
       "array([[-1.4922, -1.9047],\n",
       "       [-1.2577, -1.6084],\n",
       "       [-1.3488, -1.7498],\n",
       "       [-1.1802, -1.6392],\n",
       "       [-1.5104, -1.9627],\n",
       "       [-1.4018, -2.2201],\n",
       "       [-1.2797, -1.918 ],\n",
       "       [-1.3784, -1.8195],\n",
       "       [-1.1165, -1.545 ],\n",
       "       [-1.3131, -1.5652],\n",
       "       [-1.5765, -1.9998],\n",
       "       [-1.2827, -1.7923],\n",
       "       [-1.3085, -1.5308],\n",
       "       [-1.37  , -1.6026],\n",
       "       [-1.9385, -2.2564],\n",
       "       [-1.7662, -2.5682],\n",
       "       [-1.6204, -2.3218],\n",
       "       [-1.4208, -1.9814],\n",
       "       [-1.496 , -2.0872],\n",
       "       [-1.4823, -2.1327],\n",
       "       [-1.351 , -1.7722],\n",
       "       [-1.3722, -2.1505],\n",
       "       [-1.6471, -2.0608],\n",
       "       [-1.0367, -1.9407],\n",
       "       [-1.1188, -1.716 ],\n",
       "       [-1.1689, -1.5585],\n",
       "       [-1.181 , -1.9475],\n",
       "       [-1.4581, -1.8802],\n",
       "       [-1.474 , -1.8467],\n",
       "       [-1.1848, -1.6736],\n",
       "       [-1.1666, -1.6156],\n",
       "       [-1.3176, -1.9765],\n",
       "       [-1.7617, -2.1569],\n",
       "       [-1.8452, -2.3206],\n",
       "       [-1.3131, -1.5652],\n",
       "       [-1.4649, -1.778 ],\n",
       "       [-1.6288, -1.9337],\n",
       "       [-1.3131, -1.5652],\n",
       "       [-1.2098, -1.6294],\n",
       "       [-1.3988, -1.8204],\n",
       "       [-1.455 , -2.0059],\n",
       "       [-0.888 , -1.2947],\n",
       "       [-1.2873, -1.7472],\n",
       "       [-1.0769, -2.1598],\n",
       "       [-1.1924, -2.1077],\n",
       "       [-1.1658, -1.6842],\n",
       "       [-1.4991, -2.0306],\n",
       "       [-1.2736, -1.7235],\n",
       "       [-1.556 , -1.9989],\n",
       "       [-1.3943, -1.786 ],\n",
       "       [ 0.8945, -1.8264],\n",
       "       [ 0.9796, -1.9485],\n",
       "       [ 1.1344, -1.7924],\n",
       "       [ 1.0964, -1.3841],\n",
       "       [ 1.1686, -1.6884],\n",
       "       [ 1.1351, -1.5532],\n",
       "       [ 1.142 , -2.0324],\n",
       "       [ 0.584 , -1.3855],\n",
       "       [ 0.9666, -1.5948],\n",
       "       [ 1.0198, -1.7191],\n",
       "       [ 0.8276, -1.0999],\n",
       "       [ 0.9955, -1.9025],\n",
       "       [ 0.8185, -1.0996],\n",
       "       [ 1.1951, -1.6416],\n",
       "       [ 0.625 , -1.8401],\n",
       "       [ 0.8308, -1.8411],\n",
       "       [ 1.2209, -1.8236],\n",
       "       [ 0.7206, -1.3669],\n",
       "       [ 1.4077, -1.3577],\n",
       "       [ 0.8011, -1.3748],\n",
       "       [ 1.4601, -2.0979],\n",
       "       [ 0.7799, -1.684 ],\n",
       "       [ 1.4897, -1.4336],\n",
       "       [ 1.0911, -1.4293],\n",
       "       [ 0.8437, -1.6693],\n",
       "       [ 0.89  , -1.7813],\n",
       "       [ 1.145 , -1.5635],\n",
       "       [ 1.4115, -1.8597],\n",
       "       [ 1.1777, -1.7682],\n",
       "       [ 0.4519, -1.4596],\n",
       "       [ 0.8056, -1.3404],\n",
       "       [ 0.6796, -1.2892],\n",
       "       [ 0.7541, -1.5711],\n",
       "       [ 1.6544, -1.5746],\n",
       "       [ 1.2619, -1.8218],\n",
       "       [ 1.0555, -2.1395],\n",
       "       [ 1.0661, -1.8415],\n",
       "       [ 1.1511, -1.2896],\n",
       "       [ 0.8596, -1.7719],\n",
       "       [ 1.019 , -1.5019],\n",
       "       [ 1.1275, -1.3824],\n",
       "       [ 1.1017, -1.7259],\n",
       "       [ 0.8474, -1.4868],\n",
       "       [ 0.6022, -1.3275],\n",
       "       [ 1.0304, -1.5697],\n",
       "       [ 0.8224, -1.6706],\n",
       "       [ 0.9324, -1.6884],\n",
       "       [ 0.8846, -1.6675],\n",
       "       [ 0.4117, -1.5992],\n",
       "       [ 0.9165, -1.655 ],\n",
       "       [ 2.4949, -2.3921],\n",
       "       [ 1.9095, -1.8029],\n",
       "       [ 2.1069, -1.9412],\n",
       "       [ 1.9315, -1.7213],\n",
       "       [ 2.2466, -2.038 ],\n",
       "       [ 2.387 , -1.7677],\n",
       "       [ 1.7007, -1.6762],\n",
       "       [ 2.1091, -1.5523],\n",
       "       [ 2.1137, -1.4385],\n",
       "       [ 2.2489, -2.5515],\n",
       "       [ 1.6439, -2.1804],\n",
       "       [ 1.8958, -1.7574],\n",
       "       [ 1.9498, -2.0403],\n",
       "       [ 2.0241, -1.7863],\n",
       "       [ 2.2277, -2.2453],\n",
       "       [ 1.9878, -2.3587],\n",
       "       [ 1.7971, -1.8075],\n",
       "       [ 2.1828, -2.2911],\n",
       "       [ 2.8281, -1.6102],\n",
       "       [ 1.7219, -1.2288],\n",
       "       [ 2.1039, -2.2615],\n",
       "       [ 1.8738, -1.9876],\n",
       "       [ 2.4272, -1.5487],\n",
       "       [ 1.6264, -1.7815],\n",
       "       [ 1.9634, -2.1652],\n",
       "       [ 1.8495, -1.8044],\n",
       "       [ 1.5535, -1.865 ],\n",
       "       [ 1.5512, -1.9564],\n",
       "       [ 2.1638, -1.8934],\n",
       "       [ 1.6749, -1.5841],\n",
       "       [ 2.0894, -1.6219],\n",
       "       [ 1.8351, -2.2158],\n",
       "       [ 2.2352, -1.9701],\n",
       "       [ 1.4828, -1.5595],\n",
       "       [ 1.8031, -1.236 ],\n",
       "       [ 2.236 , -2.0492],\n",
       "       [ 2.1662, -2.4761],\n",
       "       [ 1.7789, -1.8655],\n",
       "       [ 1.517 , -1.981 ],\n",
       "       [ 1.8359, -2.1255],\n",
       "       [ 2.2003, -2.3029],\n",
       "       [ 1.8147, -2.3552],\n",
       "       [ 1.9095, -1.8029],\n",
       "       [ 2.2337, -2.2098],\n",
       "       [ 2.2489, -2.472 ],\n",
       "       [ 1.9491, -2.2691],\n",
       "       [ 1.8298, -1.715 ],\n",
       "       [ 1.7759, -2.0372],\n",
       "       [ 2.006 , -2.4493],\n",
       "       [ 1.7015, -1.9038]])"
      ]
     },
     "execution_count": 17,
     "metadata": {},
     "output_type": "execute_result"
    }
   ],
   "source": [
    "transformed"
   ]
  },
  {
   "cell_type": "code",
   "execution_count": null,
   "metadata": {
    "collapsed": true
   },
   "outputs": [],
   "source": []
  }
 ],
 "metadata": {
  "kernelspec": {
   "display_name": "Python 3",
   "language": "python",
   "name": "python3"
  },
  "language_info": {
   "codemirror_mode": {
    "name": "ipython",
    "version": 3
   },
   "file_extension": ".py",
   "mimetype": "text/x-python",
   "name": "python",
   "nbconvert_exporter": "python",
   "pygments_lexer": "ipython3",
   "version": "3.5.3"
  }
 },
 "nbformat": 4,
 "nbformat_minor": 2
}
